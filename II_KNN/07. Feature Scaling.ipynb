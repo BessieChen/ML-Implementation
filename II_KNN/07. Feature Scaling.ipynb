{
 "cells": [
  {
   "cell_type": "markdown",
   "metadata": {},
   "source": [
    "### Normalization and Standardization"
   ]
  },
  {
   "cell_type": "code",
   "execution_count": 1,
   "metadata": {},
   "outputs": [],
   "source": [
    "import numpy as np\n",
    "import matplotlib.pyplot as plt"
   ]
  },
  {
   "cell_type": "markdown",
   "metadata": {},
   "source": [
    "### 最值归一 Normalization\n",
    "1. 适用于有边界\n",
    "2. 最好不要有极端值"
   ]
  },
  {
   "cell_type": "code",
   "execution_count": 2,
   "metadata": {},
   "outputs": [],
   "source": [
    "x = np.random.randint(0, 50, size = 100)\n",
    "#不用random.random()是因为生成的是[0,1)之前的浮点数\n",
    "#我们需要的是范围比较大的数，例如[0,50),所以用random.randint()虽然一定是整型，但是之后可以转化成浮点型"
   ]
  },
  {
   "cell_type": "code",
   "execution_count": 3,
   "metadata": {},
   "outputs": [
    {
     "data": {
      "text/plain": [
       "array([27, 36, 49, 16, 17, 11, 25, 20,  8, 43,  6, 18, 27,  9, 21, 31,  0,\n",
       "        9,  8, 26, 17, 27, 38, 35,  9, 30, 21, 48, 48,  3, 36, 11,  6, 33,\n",
       "       27, 23, 21, 25, 37, 46, 27, 21, 24, 30,  6, 35, 47, 27, 39, 49, 34,\n",
       "       32,  5, 12,  3, 15, 13, 27, 33, 16,  2, 48, 11, 18, 16, 43, 30, 15,\n",
       "       18, 25, 13, 19,  0, 10, 27,  3,  9,  8,  7, 22, 44, 31,  6, 10,  9,\n",
       "        0, 25, 46,  5, 47,  9, 28, 39, 38, 28, 29, 16,  7, 25, 14])"
      ]
     },
     "execution_count": 3,
     "metadata": {},
     "output_type": "execute_result"
    }
   ],
   "source": [
    "x"
   ]
  },
  {
   "cell_type": "code",
   "execution_count": 4,
   "metadata": {},
   "outputs": [
    {
     "data": {
      "text/plain": [
       "[array([0.55102041, 0.73469388, 1.        , 0.32653061, 0.34693878,\n",
       "        0.2244898 , 0.51020408, 0.40816327, 0.16326531, 0.87755102,\n",
       "        0.12244898, 0.36734694, 0.55102041, 0.18367347, 0.42857143,\n",
       "        0.63265306, 0.        , 0.18367347, 0.16326531, 0.53061224,\n",
       "        0.34693878, 0.55102041, 0.7755102 , 0.71428571, 0.18367347,\n",
       "        0.6122449 , 0.42857143, 0.97959184, 0.97959184, 0.06122449,\n",
       "        0.73469388, 0.2244898 , 0.12244898, 0.67346939, 0.55102041,\n",
       "        0.46938776, 0.42857143, 0.51020408, 0.75510204, 0.93877551,\n",
       "        0.55102041, 0.42857143, 0.48979592, 0.6122449 , 0.12244898,\n",
       "        0.71428571, 0.95918367, 0.55102041, 0.79591837, 1.        ,\n",
       "        0.69387755, 0.65306122, 0.10204082, 0.24489796, 0.06122449,\n",
       "        0.30612245, 0.26530612, 0.55102041, 0.67346939, 0.32653061,\n",
       "        0.04081633, 0.97959184, 0.2244898 , 0.36734694, 0.32653061,\n",
       "        0.87755102, 0.6122449 , 0.30612245, 0.36734694, 0.51020408,\n",
       "        0.26530612, 0.3877551 , 0.        , 0.20408163, 0.55102041,\n",
       "        0.06122449, 0.18367347, 0.16326531, 0.14285714, 0.44897959,\n",
       "        0.89795918, 0.63265306, 0.12244898, 0.20408163, 0.18367347,\n",
       "        0.        , 0.51020408, 0.93877551, 0.10204082, 0.95918367,\n",
       "        0.18367347, 0.57142857, 0.79591837, 0.7755102 , 0.57142857,\n",
       "        0.59183673, 0.32653061, 0.14285714, 0.51020408, 0.28571429])]"
      ]
     },
     "execution_count": 4,
     "metadata": {},
     "output_type": "execute_result"
    }
   ],
   "source": [
    "[ (x - np.min(x)) / (np.max(x) - np.min(x)) ]"
   ]
  },
  {
   "cell_type": "code",
   "execution_count": 5,
   "metadata": {
    "scrolled": true
   },
   "outputs": [
    {
     "data": {
      "text/plain": [
       "array([[48, 27],\n",
       "       [33, 33],\n",
       "       [10, 13],\n",
       "       [47, 26],\n",
       "       [14, 17],\n",
       "       [49, 43],\n",
       "       [43, 34],\n",
       "       [29, 34],\n",
       "       [14, 47],\n",
       "       [13,  8],\n",
       "       [ 6, 24],\n",
       "       [17, 13],\n",
       "       [36, 23],\n",
       "       [32, 18],\n",
       "       [ 8, 20],\n",
       "       [ 0,  9],\n",
       "       [13, 17],\n",
       "       [48,  4],\n",
       "       [ 3, 16],\n",
       "       [23, 34],\n",
       "       [39, 42],\n",
       "       [20, 10],\n",
       "       [32, 20],\n",
       "       [ 6, 10],\n",
       "       [16, 15],\n",
       "       [14,  4],\n",
       "       [34, 47],\n",
       "       [46,  1],\n",
       "       [ 1, 37],\n",
       "       [34, 37],\n",
       "       [ 2, 13],\n",
       "       [30, 47],\n",
       "       [ 4,  1],\n",
       "       [47, 20],\n",
       "       [25,  4],\n",
       "       [34, 43],\n",
       "       [25,  8],\n",
       "       [19, 15],\n",
       "       [20, 43],\n",
       "       [42, 27],\n",
       "       [ 5, 27],\n",
       "       [44, 42],\n",
       "       [ 8,  8],\n",
       "       [22, 48],\n",
       "       [49, 21],\n",
       "       [ 4, 46],\n",
       "       [48, 13],\n",
       "       [ 2, 39],\n",
       "       [16, 25],\n",
       "       [39, 28]])"
      ]
     },
     "execution_count": 5,
     "metadata": {},
     "output_type": "execute_result"
    }
   ],
   "source": [
    "#对于矩阵：\n",
    "X = np.random.randint(0, 50, size = (50,2)) #50行，50个样本\n",
    "X"
   ]
  },
  {
   "cell_type": "code",
   "execution_count": 6,
   "metadata": {},
   "outputs": [
    {
     "data": {
      "text/plain": [
       "array([0, 0, 0, 0, 0, 1, 0, 0, 0, 0, 0, 0, 0, 0, 0, 0, 0, 0, 0, 0, 0, 0,\n",
       "       0, 0, 0, 0, 0, 0, 0, 0, 0, 0, 0, 0, 0, 0, 0, 0, 0, 0, 0, 0, 0, 0,\n",
       "       1, 0, 0, 0, 0, 0])"
      ]
     },
     "execution_count": 6,
     "metadata": {},
     "output_type": "execute_result"
    }
   ],
   "source": [
    "X[:, 0] = (X[:,0] - np.min(X[:,0])) / (np.max(X[:,0]) - np.min(X[:,0]))\n",
    "X[:, 0]"
   ]
  },
  {
   "cell_type": "code",
   "execution_count": 7,
   "metadata": {},
   "outputs": [
    {
     "data": {
      "text/plain": [
       "array([0, 0, 0, 0, 0, 0, 0, 0, 0, 0, 0, 0, 0, 0, 0, 0, 0, 0, 0, 0, 0, 0,\n",
       "       0, 0, 0, 0, 0, 0, 0, 0, 0, 0, 0, 0, 0, 0, 0, 0, 0, 0, 0, 0, 0, 1,\n",
       "       0, 0, 0, 0, 0, 0])"
      ]
     },
     "execution_count": 7,
     "metadata": {},
     "output_type": "execute_result"
    }
   ],
   "source": [
    "X[:, 1] = (X[:,1] - np.min(X[:,1])) / (np.max(X[:,1]) - np.min(X[:,1]))\n",
    "X[:, 1] "
   ]
  },
  {
   "cell_type": "code",
   "execution_count": 8,
   "metadata": {},
   "outputs": [
    {
     "data": {
      "text/plain": [
       "(50, 2)"
      ]
     },
     "execution_count": 8,
     "metadata": {},
     "output_type": "execute_result"
    }
   ],
   "source": [
    "X.shape"
   ]
  },
  {
   "cell_type": "code",
   "execution_count": 9,
   "metadata": {},
   "outputs": [
    {
     "data": {
      "image/png": "[encoded data removed]",
      "text/plain": [
       "<Figure size 432x288 with 1 Axes>"
      ]
     },
     "metadata": {
      "needs_background": "light"
     },
     "output_type": "display_data"
    }
   ],
   "source": [
    "plt.scatter(X[:,0], X[:,1])\n",
    "plt.show()"
   ]
  },
  {
   "cell_type": "markdown",
   "metadata": {},
   "source": [
    "### 上面出错啦！为什么？因为你除法是整数除以整数，得到的是0,1"
   ]
  },
  {
   "cell_type": "code",
   "execution_count": 10,
   "metadata": {},
   "outputs": [],
   "source": [
    "#对于矩阵：\n",
    "X = np.random.randint(0, 50, size = (50,2)) #50行，50个样本\n",
    "X = np.array(X, dtype = 'float')"
   ]
  },
  {
   "cell_type": "code",
   "execution_count": 11,
   "metadata": {},
   "outputs": [
    {
     "data": {
      "text/plain": [
       "array([0.875     , 0.64583333, 0.08333333, 0.02083333, 0.02083333,\n",
       "       0.6875    , 0.64583333, 0.89583333, 0.8125    , 0.70833333,\n",
       "       0.54166667, 0.95833333, 0.35416667, 0.52083333, 0.        ,\n",
       "       0.66666667, 0.97916667, 0.6875    , 0.75      , 0.22916667,\n",
       "       0.33333333, 0.375     , 0.91666667, 0.6875    , 1.        ,\n",
       "       0.52083333, 0.375     , 0.64583333, 0.97916667, 0.22916667,\n",
       "       0.52083333, 0.14583333, 0.95833333, 0.4375    , 0.70833333,\n",
       "       0.45833333, 0.27083333, 0.3125    , 0.14583333, 0.52083333,\n",
       "       0.16666667, 0.5       , 0.5625    , 0.83333333, 0.83333333,\n",
       "       0.1875    , 0.47916667, 0.4375    , 0.35416667, 0.54166667])"
      ]
     },
     "execution_count": 11,
     "metadata": {},
     "output_type": "execute_result"
    }
   ],
   "source": [
    "X[:, 0] = (X[:,0] - np.min(X[:,0])) / (np.max(X[:,0]) - np.min(X[:,0]))\n",
    "X[:, 0]"
   ]
  },
  {
   "cell_type": "code",
   "execution_count": 12,
   "metadata": {},
   "outputs": [
    {
     "data": {
      "text/plain": [
       "array([0.66666667, 0.375     , 0.54166667, 0.85416667, 0.0625    ,\n",
       "       0.95833333, 0.91666667, 0.89583333, 0.64583333, 0.22916667,\n",
       "       0.20833333, 0.35416667, 0.52083333, 0.33333333, 0.29166667,\n",
       "       0.        , 0.27083333, 0.45833333, 0.14583333, 0.89583333,\n",
       "       1.        , 0.45833333, 0.16666667, 0.5       , 0.66666667,\n",
       "       0.3125    , 1.        , 0.5       , 0.45833333, 0.41666667,\n",
       "       0.10416667, 0.3125    , 0.41666667, 0.95833333, 0.8125    ,\n",
       "       0.5       , 0.89583333, 0.45833333, 0.5       , 0.70833333,\n",
       "       0.375     , 0.16666667, 0.75      , 0.35416667, 0.83333333,\n",
       "       0.60416667, 0.27083333, 0.9375    , 0.72916667, 0.66666667])"
      ]
     },
     "execution_count": 12,
     "metadata": {},
     "output_type": "execute_result"
    }
   ],
   "source": [
    "X[:, 1] = (X[:,1] - np.min(X[:,1])) / (np.max(X[:,1]) - np.min(X[:,1]))\n",
    "X[:, 1] "
   ]
  },
  {
   "cell_type": "code",
   "execution_count": 13,
   "metadata": {},
   "outputs": [
    {
     "data": {
      "image/png": "[encoded data removed]",
      "text/plain": [
       "<Figure size 432x288 with 1 Axes>"
      ]
     },
     "metadata": {
      "needs_background": "light"
     },
     "output_type": "display_data"
    }
   ],
   "source": [
    "plt.scatter(X[:,0], X[:,1])\n",
    "plt.show()\n",
    "#下图的取值范围都是0 到 1， 这里怕有极端值，有偏"
   ]
  },
  {
   "cell_type": "code",
   "execution_count": 14,
   "metadata": {},
   "outputs": [
    {
     "name": "stdout",
     "output_type": "stream",
     "text": [
      "np.mean(X[:,0]) 0.5304166666666668\n",
      "np.mean(X[:,1]) 0.5291666666666667\n",
      "np.std(X[:,0]) 0.2799184529068739\n",
      "np.std(X[:,1]) 0.2745261068338189\n"
     ]
    }
   ],
   "source": [
    "print('np.mean(X[:,0])', np.mean(X[:,0]))\n",
    "print('np.mean(X[:,1])', np.mean(X[:,1]))\n",
    "print('np.std(X[:,0])', np.std(X[:,0]))\n",
    "print('np.std(X[:,1])', np.std(X[:,1]))"
   ]
  },
  {
   "cell_type": "markdown",
   "metadata": {},
   "source": [
    "### 均值方差归一化 Standardization"
   ]
  },
  {
   "cell_type": "code",
   "execution_count": 15,
   "metadata": {},
   "outputs": [],
   "source": [
    "#对于矩阵：\n",
    "X2 = np.random.randint(0, 50, size = (50,2)) #50行，50个样本\n",
    "X2 = np.array(X2, dtype = 'float')"
   ]
  },
  {
   "cell_type": "code",
   "execution_count": 16,
   "metadata": {},
   "outputs": [],
   "source": [
    "X2[:,0] = (X2[:, 0] - np.mean(X2[:,0])) / np.std(X2[:,0])\n",
    "X2[:,1] = (X2[:, 1] - np.mean(X2[:,1])) / np.std(X2[:,1]) #不要忘了（xx - mean）需要有个括号"
   ]
  },
  {
   "cell_type": "code",
   "execution_count": 17,
   "metadata": {},
   "outputs": [
    {
     "data": {
      "image/png": "[encoded data removed]",
      "text/plain": [
       "<Figure size 432x288 with 1 Axes>"
      ]
     },
     "metadata": {
      "needs_background": "light"
     },
     "output_type": "display_data"
    }
   ],
   "source": [
    "plt.scatter(X2[:,0], X2[:,1])\n",
    "plt.show()\n",
    "#下图的取值范围都是-1.5 到 2, 中心为0. 这里不怕有极端值，无偏"
   ]
  },
  {
   "cell_type": "code",
   "execution_count": 18,
   "metadata": {},
   "outputs": [
    {
     "name": "stdout",
     "output_type": "stream",
     "text": [
      "np.mean(X[:,0]) 1.1102230246251565e-16\n",
      "np.mean(X[:,1]) 4.662936703425657e-17\n",
      "np.std(X[:,0]) 1.0\n",
      "np.std(X[:,1]) 1.0\n"
     ]
    }
   ],
   "source": [
    "print('np.mean(X[:,0])', np.mean(X2[:,0]))\n",
    "print('np.mean(X[:,1])', np.mean(X2[:,1]))\n",
    "print('np.std(X[:,0])', np.std(X2[:,0]))\n",
    "print('np.std(X[:,1])', np.std(X2[:,1]))"
   ]
  },
  {
   "cell_type": "code",
   "execution_count": null,
   "metadata": {},
   "outputs": [],
   "source": []
  }
 ],
 "metadata": {
  "kernelspec": {
   "display_name": "Python 3",
   "language": "python",
   "name": "python3"
  },
  "language_info": {
   "codemirror_mode": {
    "name": "ipython",
    "version": 3
   },
   "file_extension": ".py",
   "mimetype": "text/x-python",
   "name": "python",
   "nbconvert_exporter": "python",
   "pygments_lexer": "ipython3",
   "version": "3.7.3"
  }
 },
 "nbformat": 4,
 "nbformat_minor": 2
}
