{
 "cells": [
  {
   "cell_type": "markdown",
   "metadata": {},
   "source": [
    "### Normalization and Standardization"
   ]
  },
  {
   "cell_type": "code",
   "execution_count": 14,
   "metadata": {},
   "outputs": [],
   "source": [
    "import numpy as np\n",
    "import matplotlib.pyplot as plt"
   ]
  },
  {
   "cell_type": "markdown",
   "metadata": {},
   "source": [
    "### 最值归一 Normalization\n",
    "1. 适用于有边界\n",
    "2. 最好不要有极端值"
   ]
  },
  {
   "cell_type": "code",
   "execution_count": 33,
   "metadata": {},
   "outputs": [],
   "source": [
    "x = np.random.randint(0, 50, size = 100)\n",
    "#不用random.random()是因为生成的是[0,1)之前的浮点数\n",
    "#我们需要的是范围比较大的数，例如[0,50),所以用random.randint()虽然一定是整型，但是之后可以转化成浮点型"
   ]
  },
  {
   "cell_type": "code",
   "execution_count": 34,
   "metadata": {},
   "outputs": [
    {
     "data": {
      "text/plain": [
       "array([12, 33,  6, 45, 16, 15, 18,  0, 34, 18, 12,  7,  9, 25, 13, 39, 18,\n",
       "       32,  2,  9, 23, 39, 32,  3, 42, 38, 31,  3, 10, 25, 47, 44, 42,  6,\n",
       "       14, 19, 20, 18, 21, 33, 37,  1,  2, 20, 19, 12,  2, 20, 30, 22, 27,\n",
       "       49, 12, 17, 28, 24, 30, 30, 12, 43,  3, 20, 29,  2, 41, 26, 17, 30,\n",
       "        4, 12, 22,  7, 36, 22, 23, 23, 23, 38, 35, 15, 34, 23, 22,  7, 23,\n",
       "       27, 35, 40,  8, 27, 13, 43, 26, 28, 18, 18, 20,  4,  7, 47])"
      ]
     },
     "execution_count": 34,
     "metadata": {},
     "output_type": "execute_result"
    }
   ],
   "source": [
    "x"
   ]
  },
  {
   "cell_type": "code",
   "execution_count": 35,
   "metadata": {},
   "outputs": [
    {
     "data": {
      "text/plain": [
       "[array([0.24489796, 0.67346939, 0.12244898, 0.91836735, 0.32653061,\n",
       "        0.30612245, 0.36734694, 0.        , 0.69387755, 0.36734694,\n",
       "        0.24489796, 0.14285714, 0.18367347, 0.51020408, 0.26530612,\n",
       "        0.79591837, 0.36734694, 0.65306122, 0.04081633, 0.18367347,\n",
       "        0.46938776, 0.79591837, 0.65306122, 0.06122449, 0.85714286,\n",
       "        0.7755102 , 0.63265306, 0.06122449, 0.20408163, 0.51020408,\n",
       "        0.95918367, 0.89795918, 0.85714286, 0.12244898, 0.28571429,\n",
       "        0.3877551 , 0.40816327, 0.36734694, 0.42857143, 0.67346939,\n",
       "        0.75510204, 0.02040816, 0.04081633, 0.40816327, 0.3877551 ,\n",
       "        0.24489796, 0.04081633, 0.40816327, 0.6122449 , 0.44897959,\n",
       "        0.55102041, 1.        , 0.24489796, 0.34693878, 0.57142857,\n",
       "        0.48979592, 0.6122449 , 0.6122449 , 0.24489796, 0.87755102,\n",
       "        0.06122449, 0.40816327, 0.59183673, 0.04081633, 0.83673469,\n",
       "        0.53061224, 0.34693878, 0.6122449 , 0.08163265, 0.24489796,\n",
       "        0.44897959, 0.14285714, 0.73469388, 0.44897959, 0.46938776,\n",
       "        0.46938776, 0.46938776, 0.7755102 , 0.71428571, 0.30612245,\n",
       "        0.69387755, 0.46938776, 0.44897959, 0.14285714, 0.46938776,\n",
       "        0.55102041, 0.71428571, 0.81632653, 0.16326531, 0.55102041,\n",
       "        0.26530612, 0.87755102, 0.53061224, 0.57142857, 0.36734694,\n",
       "        0.36734694, 0.40816327, 0.08163265, 0.14285714, 0.95918367])]"
      ]
     },
     "execution_count": 35,
     "metadata": {},
     "output_type": "execute_result"
    }
   ],
   "source": [
    "[ (x - np.min(x)) / (np.max(x) - np.min(x)) ]"
   ]
  },
  {
   "cell_type": "code",
   "execution_count": 28,
   "metadata": {
    "scrolled": true
   },
   "outputs": [
    {
     "data": {
      "text/plain": [
       "array([[46, 11],\n",
       "       [23,  1],\n",
       "       [19,  5],\n",
       "       [49, 27],\n",
       "       [37, 12],\n",
       "       [41, 31],\n",
       "       [28, 49],\n",
       "       [17, 41],\n",
       "       [26, 39],\n",
       "       [ 6, 40],\n",
       "       [ 6,  6],\n",
       "       [19, 32],\n",
       "       [44, 10],\n",
       "       [17, 24],\n",
       "       [44, 18],\n",
       "       [40, 43],\n",
       "       [ 9, 28],\n",
       "       [42, 42],\n",
       "       [18,  0],\n",
       "       [ 7, 13],\n",
       "       [22, 39],\n",
       "       [45, 31],\n",
       "       [14, 21],\n",
       "       [23, 26],\n",
       "       [48, 32],\n",
       "       [49, 49],\n",
       "       [35,  9],\n",
       "       [29, 46],\n",
       "       [13, 28],\n",
       "       [49,  2],\n",
       "       [16, 23],\n",
       "       [16, 44],\n",
       "       [48, 36],\n",
       "       [23, 19],\n",
       "       [ 7, 14],\n",
       "       [48, 32],\n",
       "       [12, 44],\n",
       "       [49,  8],\n",
       "       [23, 25],\n",
       "       [26, 15],\n",
       "       [15, 21],\n",
       "       [18, 40],\n",
       "       [43,  8],\n",
       "       [11, 10],\n",
       "       [32,  8],\n",
       "       [36,  2],\n",
       "       [21,  5],\n",
       "       [48, 10],\n",
       "       [15, 17],\n",
       "       [ 9,  4]])"
      ]
     },
     "execution_count": 28,
     "metadata": {},
     "output_type": "execute_result"
    }
   ],
   "source": [
    "#对于矩阵：\n",
    "X = np.random.randint(0, 50, size = (50,2)) #50行，50个样本\n",
    "X"
   ]
  },
  {
   "cell_type": "code",
   "execution_count": 32,
   "metadata": {},
   "outputs": [
    {
     "data": {
      "text/plain": [
       "array([0, 0, 0, 1, 0, 0, 0, 0, 0, 0, 0, 0, 0, 0, 0, 0, 0, 0, 0, 0, 0, 0,\n",
       "       0, 0, 0, 1, 0, 0, 0, 1, 0, 0, 0, 0, 0, 0, 0, 1, 0, 0, 0, 0, 0, 0,\n",
       "       0, 0, 0, 0, 0, 0])"
      ]
     },
     "execution_count": 32,
     "metadata": {},
     "output_type": "execute_result"
    }
   ],
   "source": [
    "X[:, 0] = (X[:,0] - np.min(X[:,0])) / (np.max(X[:,0]) - np.min(X[:,0]))\n",
    "X[:, 0]"
   ]
  },
  {
   "cell_type": "code",
   "execution_count": 24,
   "metadata": {},
   "outputs": [
    {
     "data": {
      "text/plain": [
       "array([0, 0, 0, 0, 1, 0, 0, 0, 0, 0, 0, 0, 0, 0, 0, 0, 0, 0, 0, 0, 0, 0,\n",
       "       0, 0, 0, 0, 0, 0, 0, 0, 0, 0, 0, 0, 0, 0, 0, 0, 0, 0, 0, 0, 0, 0,\n",
       "       0, 0, 0, 0, 0, 0])"
      ]
     },
     "execution_count": 24,
     "metadata": {},
     "output_type": "execute_result"
    }
   ],
   "source": [
    "X[:, 1] = (X[:,1] - np.min(X[:,1])) / (np.max(X[:,1]) - np.min(X[:,1]))\n",
    "X[:, 1] "
   ]
  },
  {
   "cell_type": "code",
   "execution_count": 22,
   "metadata": {},
   "outputs": [
    {
     "data": {
      "text/plain": [
       "(50, 2)"
      ]
     },
     "execution_count": 22,
     "metadata": {},
     "output_type": "execute_result"
    }
   ],
   "source": [
    "X.shape"
   ]
  },
  {
   "cell_type": "code",
   "execution_count": 23,
   "metadata": {},
   "outputs": [
    {
     "data": {
      "image/png": "[encoded data removed]",
      "text/plain": [
       "<Figure size 432x288 with 1 Axes>"
      ]
     },
     "metadata": {
      "needs_background": "light"
     },
     "output_type": "display_data"
    }
   ],
   "source": [
    "plt.scatter(X[:,0], X[:,1])\n",
    "plt.show()"
   ]
  },
  {
   "cell_type": "markdown",
   "metadata": {},
   "source": [
    "### 上面出错啦！为什么？因为你除法是整数除以整数，得到的是0,1"
   ]
  },
  {
   "cell_type": "code",
   "execution_count": 45,
   "metadata": {},
   "outputs": [],
   "source": [
    "#对于矩阵：\n",
    "X = np.random.randint(0, 50, size = (50,2)) #50行，50个样本\n",
    "X = np.array(X, dtype = 'float')"
   ]
  },
  {
   "cell_type": "code",
   "execution_count": 39,
   "metadata": {},
   "outputs": [
    {
     "data": {
      "text/plain": [
       "array([0.46808511, 0.        , 0.40425532, 0.08510638, 0.31914894,\n",
       "       0.42553191, 0.65957447, 0.74468085, 0.55319149, 1.        ,\n",
       "       0.17021277, 0.95744681, 0.36170213, 0.63829787, 0.9787234 ,\n",
       "       0.40425532, 1.        , 0.36170213, 0.27659574, 0.89361702,\n",
       "       0.38297872, 0.87234043, 1.        , 0.82978723, 0.72340426,\n",
       "       0.23404255, 0.25531915, 1.        , 0.9787234 , 0.12765957,\n",
       "       0.38297872, 0.21276596, 0.87234043, 0.17021277, 0.17021277,\n",
       "       0.14893617, 0.72340426, 0.9787234 , 0.4893617 , 0.70212766,\n",
       "       0.65957447, 0.        , 0.63829787, 0.55319149, 0.19148936,\n",
       "       0.61702128, 0.14893617, 0.95744681, 0.0212766 , 0.10638298])"
      ]
     },
     "execution_count": 39,
     "metadata": {},
     "output_type": "execute_result"
    }
   ],
   "source": [
    "X[:, 0] = (X[:,0] - np.min(X[:,0])) / (np.max(X[:,0]) - np.min(X[:,0]))\n",
    "X[:, 0]"
   ]
  },
  {
   "cell_type": "code",
   "execution_count": 40,
   "metadata": {},
   "outputs": [
    {
     "data": {
      "text/plain": [
       "array([0.88636364, 0.27272727, 0.06818182, 0.52272727, 0.84090909,\n",
       "       0.04545455, 0.38636364, 0.5       , 0.31818182, 0.29545455,\n",
       "       0.90909091, 0.86363636, 0.70454545, 0.34090909, 0.        ,\n",
       "       0.40909091, 0.40909091, 0.5       , 0.11363636, 1.        ,\n",
       "       0.81818182, 0.29545455, 0.11363636, 0.13636364, 0.27272727,\n",
       "       0.72727273, 0.02272727, 0.95454545, 0.31818182, 0.        ,\n",
       "       0.88636364, 0.68181818, 0.97727273, 0.93181818, 0.06818182,\n",
       "       0.43181818, 0.70454545, 0.15909091, 0.06818182, 0.72727273,\n",
       "       0.27272727, 0.77272727, 0.75      , 0.86363636, 1.        ,\n",
       "       0.29545455, 0.31818182, 0.63636364, 0.81818182, 0.45454545])"
      ]
     },
     "execution_count": 40,
     "metadata": {},
     "output_type": "execute_result"
    }
   ],
   "source": [
    "X[:, 1] = (X[:,1] - np.min(X[:,1])) / (np.max(X[:,1]) - np.min(X[:,1]))\n",
    "X[:, 1] "
   ]
  },
  {
   "cell_type": "code",
   "execution_count": 42,
   "metadata": {},
   "outputs": [
    {
     "data": {
      "image/png": "[encoded data removed]",
      "text/plain": [
       "<Figure size 432x288 with 1 Axes>"
      ]
     },
     "metadata": {
      "needs_background": "light"
     },
     "output_type": "display_data"
    }
   ],
   "source": [
    "plt.scatter(X[:,0], X[:,1])\n",
    "plt.show()\n",
    "#下图的取值范围都是0 到 1， 这里怕有极端值，有偏"
   ]
  },
  {
   "cell_type": "code",
   "execution_count": 44,
   "metadata": {},
   "outputs": [
    {
     "name": "stdout",
     "output_type": "stream",
     "text": [
      "np.mean(X[:,0]) 0.5170212765957446\n",
      "np.mean(X[:,1]) 0.4972727272727272\n",
      "np.std(X[:,0]) 0.3222052240859047\n",
      "np.std(X[:,1]) 0.3170968514872711\n"
     ]
    }
   ],
   "source": [
    "print('np.mean(X[:,0])', np.mean(X[:,0]))\n",
    "print('np.mean(X[:,1])', np.mean(X[:,1]))\n",
    "print('np.std(X[:,0])', np.std(X[:,0]))\n",
    "print('np.std(X[:,1])', np.std(X[:,1]))"
   ]
  },
  {
   "cell_type": "markdown",
   "metadata": {},
   "source": [
    "### 均值方差归一化 Standardization"
   ]
  },
  {
   "cell_type": "code",
   "execution_count": 46,
   "metadata": {},
   "outputs": [],
   "source": [
    "#对于矩阵：\n",
    "X2 = np.random.randint(0, 50, size = (50,2)) #50行，50个样本\n",
    "X2 = np.array(X2, dtype = 'float')"
   ]
  },
  {
   "cell_type": "code",
   "execution_count": 50,
   "metadata": {},
   "outputs": [],
   "source": [
    "X2[:,0] = (X2[:, 0] - np.mean(X2[:,0])) / np.std(X2[:,0])\n",
    "X2[:,1] = (X2[:, 1] - np.mean(X2[:,1])) / np.std(X2[:,1]) #不要忘了（xx - mean）需要有个括号"
   ]
  },
  {
   "cell_type": "code",
   "execution_count": 51,
   "metadata": {},
   "outputs": [
    {
     "data": {
      "image/png": "[encoded data removed]",
      "text/plain": [
       "<Figure size 432x288 with 1 Axes>"
      ]
     },
     "metadata": {
      "needs_background": "light"
     },
     "output_type": "display_data"
    }
   ],
   "source": [
    "plt.scatter(X2[:,0], X2[:,1])\n",
    "plt.show()\n",
    "#下图的取值范围都是-1.5 到 2, 中心为0. 这里不怕有极端值，无偏"
   ]
  },
  {
   "cell_type": "code",
   "execution_count": 52,
   "metadata": {},
   "outputs": [
    {
     "name": "stdout",
     "output_type": "stream",
     "text": [
      "np.mean(X[:,0]) -8.881784197001253e-18\n",
      "np.mean(X[:,1]) -2.6645352591003756e-16\n",
      "np.std(X[:,0]) 1.0\n",
      "np.std(X[:,1]) 1.0\n"
     ]
    }
   ],
   "source": [
    "print('np.mean(X[:,0])', np.mean(X2[:,0]))\n",
    "print('np.mean(X[:,1])', np.mean(X2[:,1]))\n",
    "print('np.std(X[:,0])', np.std(X2[:,0]))\n",
    "print('np.std(X[:,1])', np.std(X2[:,1]))"
   ]
  },
  {
   "cell_type": "code",
   "execution_count": null,
   "metadata": {},
   "outputs": [],
   "source": []
  }
 ],
 "metadata": {
  "kernelspec": {
   "display_name": "Python 3",
   "language": "python",
   "name": "python3"
  },
  "language_info": {
   "codemirror_mode": {
    "name": "ipython",
    "version": 3
   },
   "file_extension": ".py",
   "mimetype": "text/x-python",
   "name": "python",
   "nbconvert_exporter": "python",
   "pygments_lexer": "ipython3",
   "version": "3.7.3"
  }
 },
 "nbformat": 4,
 "nbformat_minor": 2
}
