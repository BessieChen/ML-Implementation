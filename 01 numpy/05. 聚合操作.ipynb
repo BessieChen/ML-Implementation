{
 "cells": [
  {
   "cell_type": "code",
   "execution_count": 1,
   "metadata": {},
   "outputs": [],
   "source": [
    "import numpy as np\n",
    "\n",
    "L = np.random.random(100)"
   ]
  },
  {
   "cell_type": "code",
   "execution_count": 2,
   "metadata": {},
   "outputs": [
    {
     "data": {
      "text/plain": [
       "array([0.05713835, 0.11255102, 0.49768143, 0.59209551, 0.7622055 ,\n",
       "       0.04565665, 0.63070855, 0.76162107, 0.65368605, 0.58153476,\n",
       "       0.27920485, 0.5669104 , 0.44819295, 0.28254961, 0.78737913,\n",
       "       0.12513402, 0.35112933, 0.4328451 , 0.41326757, 0.99458503,\n",
       "       0.22887187, 0.71653479, 0.63753644, 0.87517462, 0.6358143 ,\n",
       "       0.12011157, 0.05769061, 0.23269343, 0.18141071, 0.11294623,\n",
       "       0.2747469 , 0.4096218 , 0.7923127 , 0.94709771, 0.54238936,\n",
       "       0.30568525, 0.230261  , 0.29123553, 0.89148683, 0.83240518,\n",
       "       0.94503263, 0.06570948, 0.22137743, 0.07110788, 0.98111923,\n",
       "       0.20038845, 0.82908152, 0.92810567, 0.59149076, 0.76057924,\n",
       "       0.85331871, 0.67420287, 0.3074929 , 0.69418834, 0.08077921,\n",
       "       0.50476384, 0.33851474, 0.60950298, 0.28120015, 0.61708407,\n",
       "       0.56874603, 0.39889596, 0.9123847 , 0.83260842, 0.72429591,\n",
       "       0.79337902, 0.57981333, 0.78130296, 0.21350447, 0.6212368 ,\n",
       "       0.88223104, 0.37372149, 0.54335276, 0.39114988, 0.21411234,\n",
       "       0.20199658, 0.50126592, 0.53400098, 0.95220582, 0.37381023,\n",
       "       0.03648928, 0.53440079, 0.21335687, 0.71840407, 0.10971177,\n",
       "       0.75106423, 0.53951158, 0.27966832, 0.62890354, 0.74217231,\n",
       "       0.90173914, 0.62843978, 0.65469656, 0.43440564, 0.57110525,\n",
       "       0.16678811, 0.75545889, 0.09643177, 0.38718495, 0.49908469])"
      ]
     },
     "execution_count": 2,
     "metadata": {},
     "output_type": "execute_result"
    }
   ],
   "source": [
    "L"
   ]
  },
  {
   "cell_type": "code",
   "execution_count": 3,
   "metadata": {},
   "outputs": [
    {
     "data": {
      "text/plain": [
       "50.290175985206155"
      ]
     },
     "execution_count": 3,
     "metadata": {},
     "output_type": "execute_result"
    }
   ],
   "source": [
    "sum(L)"
   ]
  },
  {
   "cell_type": "code",
   "execution_count": 4,
   "metadata": {},
   "outputs": [
    {
     "data": {
      "text/plain": [
       "50.29017598520615"
      ]
     },
     "execution_count": 4,
     "metadata": {},
     "output_type": "execute_result"
    }
   ],
   "source": [
    "np.sum(L)"
   ]
  },
  {
   "cell_type": "code",
   "execution_count": 6,
   "metadata": {},
   "outputs": [
    {
     "name": "stdout",
     "output_type": "stream",
     "text": [
      "73.6 ms ± 678 µs per loop (mean ± std. dev. of 7 runs, 10 loops each)\n",
      "334 µs ± 21.5 µs per loop (mean ± std. dev. of 7 runs, 1000 loops each)\n"
     ]
    }
   ],
   "source": [
    "big_array = np.random.rand(1000000)\n",
    "%timeit sum(big_array)\n",
    "%timeit np.sum(big_array)"
   ]
  },
  {
   "cell_type": "code",
   "execution_count": 7,
   "metadata": {},
   "outputs": [
    {
     "data": {
      "text/plain": [
       "2.443321515444019e-06"
      ]
     },
     "execution_count": 7,
     "metadata": {},
     "output_type": "execute_result"
    }
   ],
   "source": [
    "np.min(big_array)"
   ]
  },
  {
   "cell_type": "code",
   "execution_count": 8,
   "metadata": {},
   "outputs": [
    {
     "data": {
      "text/plain": [
       "0.9999994553675075"
      ]
     },
     "execution_count": 8,
     "metadata": {},
     "output_type": "execute_result"
    }
   ],
   "source": [
    "np.max(big_array)"
   ]
  },
  {
   "cell_type": "code",
   "execution_count": 9,
   "metadata": {},
   "outputs": [
    {
     "data": {
      "text/plain": [
       "2.443321515444019e-06"
      ]
     },
     "execution_count": 9,
     "metadata": {},
     "output_type": "execute_result"
    }
   ],
   "source": [
    "big_array.min()"
   ]
  },
  {
   "cell_type": "code",
   "execution_count": 10,
   "metadata": {},
   "outputs": [
    {
     "data": {
      "text/plain": [
       "0.9999994553675075"
      ]
     },
     "execution_count": 10,
     "metadata": {},
     "output_type": "execute_result"
    }
   ],
   "source": [
    "big_array.max()"
   ]
  },
  {
   "cell_type": "code",
   "execution_count": null,
   "metadata": {},
   "outputs": [],
   "source": []
  }
 ],
 "metadata": {
  "kernelspec": {
   "display_name": "Python 3",
   "language": "python",
   "name": "python3"
  },
  "language_info": {
   "codemirror_mode": {
    "name": "ipython",
    "version": 3
   },
   "file_extension": ".py",
   "mimetype": "text/x-python",
   "name": "python",
   "nbconvert_exporter": "python",
   "pygments_lexer": "ipython3",
   "version": "3.7.3"
  }
 },
 "nbformat": 4,
 "nbformat_minor": 2
}
