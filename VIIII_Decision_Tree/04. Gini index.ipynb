{
 "cells": [
  {
   "cell_type": "code",
   "execution_count": 1,
   "metadata": {},
   "outputs": [],
   "source": [
    "import numpy as np\n",
    "import matplotlib.pyplot as plt\n",
    "from sklearn import datasets"
   ]
  },
  {
   "cell_type": "code",
   "execution_count": 2,
   "metadata": {},
   "outputs": [],
   "source": [
    "iris = datasets.load_iris()\n",
    "X = iris.data[:, 2:]#所有样本的后两个特征，不是前两个\n",
    "y = iris.target"
   ]
  },
  {
   "cell_type": "markdown",
   "metadata": {},
   "source": [
    "### criterion is now gini instead of entropy"
   ]
  },
  {
   "cell_type": "code",
   "execution_count": 5,
   "metadata": {},
   "outputs": [
    {
     "data": {
      "text/plain": [
       "DecisionTreeClassifier(class_weight=None, criterion='gini', max_depth=2,\n",
       "            max_features=None, max_leaf_nodes=None,\n",
       "            min_impurity_decrease=0.0, min_impurity_split=None,\n",
       "            min_samples_leaf=1, min_samples_split=2,\n",
       "            min_weight_fraction_leaf=0.0, presort=False, random_state=None,\n",
       "            splitter='best')"
      ]
     },
     "execution_count": 5,
     "metadata": {},
     "output_type": "execute_result"
    }
   ],
   "source": [
    "from sklearn.tree import DecisionTreeClassifier\n",
    "\n",
    "dt_clf = DecisionTreeClassifier(max_depth = 2, criterion = \"gini\")\n",
    "dt_clf.fit(X,y)"
   ]
  },
  {
   "cell_type": "code",
   "execution_count": 6,
   "metadata": {},
   "outputs": [],
   "source": [
    "def plot_decision_boundary(model, axis):\n",
    "    \n",
    "    x0, x1 = np.meshgrid(\n",
    "        np.linspace(axis[0], axis[1], int((axis[1]-axis[0])*100)).reshape(-1, 1),\n",
    "        np.linspace(axis[2], axis[3], int((axis[3]-axis[2])*100)).reshape(-1, 1),\n",
    "    )\n",
    "    X_new = np.c_[x0.ravel(), x1.ravel()]\n",
    "\n",
    "    y_predict = model.predict(X_new)\n",
    "    zz = y_predict.reshape(x0.shape)\n",
    "\n",
    "    from matplotlib.colors import ListedColormap\n",
    "    custom_cmap = ListedColormap(['#EF9A9A','#FFF59D','#90CAF9'])\n",
    "    \n",
    "    plt.contourf(x0, x1, zz, linewidth=5, cmap=custom_cmap)\n"
   ]
  },
  {
   "cell_type": "code",
   "execution_count": 7,
   "metadata": {},
   "outputs": [
    {
     "name": "stderr",
     "output_type": "stream",
     "text": [
      "/Users/bessie/anaconda3/lib/python3.7/site-packages/matplotlib/contour.py:1000: UserWarning: The following kwargs were not used by contour: 'linewidth'\n",
      "  s)\n"
     ]
    },
    {
     "data": {
      "image/png": "[encoded data removed]",
      "text/plain": [
       "<Figure size 432x288 with 1 Axes>"
      ]
     },
     "metadata": {
      "needs_background": "light"
     },
     "output_type": "display_data"
    }
   ],
   "source": [
    "plot_decision_boundary(dt_clf, axis = [0.5,7.5,0,3])\n",
    "plt.scatter(X[y == 0, 0],X[y == 0, 1],color = 'b')\n",
    "plt.scatter(X[y == 1, 0],X[y == 1, 1],color = 'g')\n",
    "plt.scatter(X[y == 2, 0],X[y == 2, 1],color = 'r')\n",
    "plt.show()"
   ]
  },
  {
   "cell_type": "markdown",
   "metadata": {},
   "source": [
    "#### 这个结果和Entropy的差别不大"
   ]
  },
  {
   "cell_type": "markdown",
   "metadata": {},
   "source": [
    "### Simulate the process of using gini index to split different class"
   ]
  },
  {
   "cell_type": "code",
   "execution_count": 9,
   "metadata": {},
   "outputs": [],
   "source": [
    "from collections import Counter\n",
    "from math import log\n",
    "\n",
    "def split(X, y, d, value): #d:维度，value：阈值\n",
    "    index_a = (X[:,d] <= value) #这是boolean，代表了我们要选哪些indexes\n",
    "    index_b = (X[:,d] > value)\n",
    "    return X[index_a], X[index_b], y[index_a], y[index_b]\n",
    "\n",
    "def gini(y):\n",
    "    counter = Counter(y)\n",
    "    ret = 1.0\n",
    "    for label in counter.values(): #y中的label\n",
    "        p_label = label / len(y) #label对应的概率\n",
    "        ret -= (p_label)**2\n",
    "    return ret\n",
    "\n",
    "def try_split(X, y):\n",
    "    best_gini = float('inf')\n",
    "    best_d, best_value = -1, -1\n",
    "    for d in range(X.shape[1]):\n",
    "        sorted_index = np.argsort(X[:, d])\n",
    "        for i in range(1, X.shape[0]):\n",
    "            if X[sorted_index[i-1], d] != X[sorted_index[i], d]:\n",
    "                value = ( X[sorted_index[i-1], d] + X[sorted_index[i], d] ) / 2\n",
    "                X_l, X_r, y_l, y_r = split(X, y, d, value)\n",
    "                g = gini(y_l) + gini(y_r) #两部分的熵之和\n",
    "                if g < best_gini:\n",
    "                    best_gini, best_d, best_value = g, d, value\n",
    "    return best_gini, best_d, best_value"
   ]
  },
  {
   "cell_type": "code",
   "execution_count": 10,
   "metadata": {},
   "outputs": [
    {
     "name": "stdout",
     "output_type": "stream",
     "text": [
      "best_gini: 0.5\n",
      "best_d: 0\n",
      "best_value: 2.45\n"
     ]
    }
   ],
   "source": [
    "best_gini, best_d, best_value = try_split(X, y)\n",
    "print(\"best_gini:\", best_gini)\n",
    "print(\"best_d:\", best_d)\n",
    "print(\"best_value:\", best_value)"
   ]
  },
  {
   "cell_type": "markdown",
   "metadata": {},
   "source": [
    "### 观察：\n",
    "1. 的确第一个划分是 x轴的划分：体现在best_d = 0,第一个轴\n",
    "2. 划分阈值是2.45，的确下图是在x轴的2.45处的地方划分"
   ]
  },
  {
   "cell_type": "code",
   "execution_count": 12,
   "metadata": {
    "scrolled": true
   },
   "outputs": [
    {
     "name": "stderr",
     "output_type": "stream",
     "text": [
      "/Users/bessie/anaconda3/lib/python3.7/site-packages/matplotlib/contour.py:1000: UserWarning: The following kwargs were not used by contour: 'linewidth'\n",
      "  s)\n"
     ]
    },
    {
     "data": {
      "image/png": "[encoded data removed]",
      "text/plain": [
       "<Figure size 432x288 with 1 Axes>"
      ]
     },
     "metadata": {
      "needs_background": "light"
     },
     "output_type": "display_data"
    }
   ],
   "source": [
    "plot_decision_boundary(dt_clf, axis = [0.5,7.5,0,3])\n",
    "plt.scatter(X[y == 0, 0],X[y == 0, 1],color = 'b')\n",
    "plt.scatter(X[y == 1, 0],X[y == 1, 1],color = 'g')\n",
    "plt.scatter(X[y == 2, 0],X[y == 2, 1],color = 'r')\n",
    "plt.show()"
   ]
  },
  {
   "cell_type": "code",
   "execution_count": 11,
   "metadata": {},
   "outputs": [
    {
     "name": "stdout",
     "output_type": "stream",
     "text": [
      "gini of y1_l:  0.0\n",
      "gini of y1_r:  0.5\n"
     ]
    }
   ],
   "source": [
    "X1_l, X1_r, y1_l, y1_r = split(X,y,best_d, best_value)\n",
    "print(\"gini of y1_l: \", gini(y1_l))\n",
    "print(\"gini of y1_r: \", gini(y1_r))"
   ]
  },
  {
   "cell_type": "markdown",
   "metadata": {},
   "source": [
    "### 观察：\n",
    "1. 粉红处的地方(y1_l)，的确全部划分正确，所以gini为0\n",
    "1. 右侧地方(y1_r)，还可以继续划分，因为gini>0"
   ]
  },
  {
   "cell_type": "code",
   "execution_count": 13,
   "metadata": {},
   "outputs": [
    {
     "name": "stdout",
     "output_type": "stream",
     "text": [
      "best_gini: 0.2105714900645938\n",
      "best_d: 1\n",
      "best_value: 1.75\n"
     ]
    }
   ],
   "source": [
    "best_gini2, best_d2, best_value2 = try_split(X1_r, y1_r)\n",
    "print(\"best_gini:\", best_gini2)\n",
    "print(\"best_d:\", best_d2)\n",
    "print(\"best_value:\", best_value2)"
   ]
  },
  {
   "cell_type": "code",
   "execution_count": 16,
   "metadata": {},
   "outputs": [
    {
     "name": "stdout",
     "output_type": "stream",
     "text": [
      "gini of y1_l:  0.1680384087791495\n",
      "gini of y1_r:  0.04253308128544431\n"
     ]
    }
   ],
   "source": [
    "X2_l, X2_r, y2_l, y2_r = split(X1_r, y1_r,best_d2, best_value2)\n",
    "print(\"gini of y1_l: \", gini(y2_l))\n",
    "print(\"gini of y1_r: \", gini(y2_r))"
   ]
  },
  {
   "cell_type": "code",
   "execution_count": null,
   "metadata": {},
   "outputs": [],
   "source": []
  }
 ],
 "metadata": {
  "kernelspec": {
   "display_name": "Python 3",
   "language": "python",
   "name": "python3"
  },
  "language_info": {
   "codemirror_mode": {
    "name": "ipython",
    "version": 3
   },
   "file_extension": ".py",
   "mimetype": "text/x-python",
   "name": "python",
   "nbconvert_exporter": "python",
   "pygments_lexer": "ipython3",
   "version": "3.7.3"
  }
 },
 "nbformat": 4,
 "nbformat_minor": 2
}
