{
 "cells": [
  {
   "cell_type": "code",
   "execution_count": 1,
   "metadata": {},
   "outputs": [],
   "source": [
    "import numpy as np\n",
    "import matplotlib.pyplot as plt"
   ]
  },
  {
   "cell_type": "code",
   "execution_count": 5,
   "metadata": {},
   "outputs": [],
   "source": [
    "np.random.seed(666)\n",
    "m = 1000\n",
    "n = 10\n",
    "X = np.random.random(size = (m,n))\n",
    "\n",
    "true_theta = np.arange(1,n+2, dtype = 'float')"
   ]
  },
  {
   "cell_type": "code",
   "execution_count": 6,
   "metadata": {},
   "outputs": [],
   "source": [
    "ones = np.ones((X.shape[0], 1))\n",
    "X_b = np.hstack([ones, X])\n",
    "y = X_b.dot(true_theta) + np.random.normal(size = m)"
   ]
  },
  {
   "cell_type": "code",
   "execution_count": 7,
   "metadata": {},
   "outputs": [
    {
     "name": "stdout",
     "output_type": "stream",
     "text": [
      "(1000, 10)\n",
      "(1000,)\n",
      "[ 1.  2.  3.  4.  5.  6.  7.  8.  9. 10. 11.]\n"
     ]
    }
   ],
   "source": [
    "print(X.shape)\n",
    "print(y.shape)\n",
    "print(true_theta)"
   ]
  },
  {
   "cell_type": "code",
   "execution_count": 13,
   "metadata": {},
   "outputs": [],
   "source": [
    "def J(theta, X_b, y):  # 损失函数J，其中X_b是已经加了第一列是1\n",
    "    try:\n",
    "        y_hat = X_b.dot(theta)\n",
    "        return np.sum((y - y_hat) ** 2) / len(X_b)\n",
    "    except:\n",
    "        return float('inf')"
   ]
  },
  {
   "cell_type": "code",
   "execution_count": 14,
   "metadata": {},
   "outputs": [],
   "source": [
    "def dJ_math(theta, X_b, y):\n",
    "    return X_b.T.dot(X_b.dot(theta) - y) * 2. / len(y)"
   ]
  },
  {
   "cell_type": "code",
   "execution_count": 15,
   "metadata": {},
   "outputs": [],
   "source": [
    "def dJ_debug(theta, X_b, y, epsilon = 0.01):\n",
    "    res = np.empty(len(theta))\n",
    "    for i in range(len(theta)):\n",
    "        theta_1 = theta.copy()\n",
    "        theta_1[i] += epsilon\n",
    "        theta_2 = theta.copy()\n",
    "        theta_2[i] -= epsilon\n",
    "        res[i] = (J(theta_1, X_b, y) - J(theta_2, X_b, y)) / (2. * epsilon)\n",
    "    return res"
   ]
  },
  {
   "cell_type": "markdown",
   "metadata": {},
   "source": [
    "### 将函数传入函数！\n",
    "dJ in gradient_descent()"
   ]
  },
  {
   "cell_type": "code",
   "execution_count": 16,
   "metadata": {},
   "outputs": [],
   "source": [
    "def gradient_descent(dJ, X_b, y, initial_theta, eta, n_iters = 1e4, epsilon = 1e-8):\n",
    "    theta = initial_theta\n",
    "    i_iter = 0\n",
    "    while i_iter <= n_iters:\n",
    "        gradient = dJ(theta, X_b, y)\n",
    "        last_theta = theta\n",
    "        theta = theta + (-1) * eta * gradient\n",
    "        if(abs( J(theta, X_b, y) - J(last_theta, X_b, y) ) < epsilon ):\n",
    "            break\n",
    "        i_iter += 1\n",
    "        \n",
    "    return theta"
   ]
  },
  {
   "cell_type": "code",
   "execution_count": 17,
   "metadata": {},
   "outputs": [
    {
     "name": "stdout",
     "output_type": "stream",
     "text": [
      "CPU times: user 2.78 s, sys: 5.24 ms, total: 2.79 s\n",
      "Wall time: 2.79 s\n"
     ]
    },
    {
     "data": {
      "text/plain": [
       "array([ 1.12512892,  2.05312927,  2.91523174,  4.11896693,  5.05002716,\n",
       "        5.90494571,  6.97384418,  8.00088859,  8.86214178,  9.98608873,\n",
       "       10.90529852])"
      ]
     },
     "execution_count": 17,
     "metadata": {},
     "output_type": "execute_result"
    }
   ],
   "source": [
    "initial_theta = np.zeros(X_b.shape[1])\n",
    "eta = 0.01\n",
    "\n",
    "%time theta = gradient_descent(dJ_debug, X_b, y, initial_theta, eta)\n",
    "theta"
   ]
  },
  {
   "cell_type": "code",
   "execution_count": 18,
   "metadata": {},
   "outputs": [
    {
     "name": "stdout",
     "output_type": "stream",
     "text": [
      "CPU times: user 2.44 s, sys: 11 ms, total: 2.45 s\n",
      "Wall time: 411 ms\n"
     ]
    },
    {
     "data": {
      "text/plain": [
       "array([ 1.12512892,  2.05312927,  2.91523174,  4.11896693,  5.05002716,\n",
       "        5.90494571,  6.97384418,  8.00088859,  8.86214178,  9.98608873,\n",
       "       10.90529852])"
      ]
     },
     "execution_count": 18,
     "metadata": {},
     "output_type": "execute_result"
    }
   ],
   "source": [
    "%time theta = gradient_descent(dJ_math, X_b, y, initial_theta, eta)\n",
    "theta"
   ]
  },
  {
   "cell_type": "markdown",
   "metadata": {},
   "source": [
    "### dJ_debug:\n",
    "1. 可以得到正确答案，作为一个numerical方法\n",
    "2. 需要的时间久\n",
    "3. 应用：先用dJ_debug, 求出正确答案，自己推导math方法，用dJ_debug的结果来检验math方法对不对。\n",
    "4. dJ_debug适用于所有情况，但是dJ_math对于不同的损失函数闭式解不同"
   ]
  },
  {
   "cell_type": "code",
   "execution_count": null,
   "metadata": {},
   "outputs": [],
   "source": []
  }
 ],
 "metadata": {
  "kernelspec": {
   "display_name": "Python 3",
   "language": "python",
   "name": "python3"
  },
  "language_info": {
   "codemirror_mode": {
    "name": "ipython",
    "version": 3
   },
   "file_extension": ".py",
   "mimetype": "text/x-python",
   "name": "python",
   "nbconvert_exporter": "python",
   "pygments_lexer": "ipython3",
   "version": "3.7.3"
  }
 },
 "nbformat": 4,
 "nbformat_minor": 2
}
