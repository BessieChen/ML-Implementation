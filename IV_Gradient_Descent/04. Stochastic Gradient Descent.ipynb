{
 "cells": [
  {
   "cell_type": "code",
   "execution_count": 1,
   "metadata": {},
   "outputs": [],
   "source": [
    "import numpy as np\n",
    "import matplotlib.pyplot as plt"
   ]
  },
  {
   "cell_type": "code",
   "execution_count": 2,
   "metadata": {},
   "outputs": [],
   "source": [
    "#样本大，特征此例子为1个，但是也适用于多特征\n",
    "m = 100000\n",
    "np.random.seed(666)\n",
    "x = np.random.random(size = m)\n",
    "X = x.reshape(-1, 1) #转换成一列，100个样本（100行），1个特征（1列）\n",
    "y = 4. * x + 3. + np.random.normal(size = m)"
   ]
  },
  {
   "cell_type": "code",
   "execution_count": 34,
   "metadata": {},
   "outputs": [],
   "source": [
    "def J(theta, X_b, y):  # 损失函数J，其中X_b是已经加了第一列是1\n",
    "    try:\n",
    "        y_hat = X_b.dot(theta)\n",
    "        return np.sum((y - y_hat) ** 2) / len(X_b)\n",
    "    except:\n",
    "        return float('inf')\n",
    "\n",
    "# def dJ(theta, X_b, y): #非向量化\n",
    "#     res = np.empty(len(theta))\n",
    "#     res[0] = np.sum(X_b.dot(theta) - y)\n",
    "#     for i in range(1, len(theta)):\n",
    "#         res[i] = (X_b.dot(theta) - y).dot(X_b[:, i])  # 将(X_b.dot(theta) - y)看做行向量，而不是列向量\n",
    "#     return res / len(X_b) * 2\n",
    "\n",
    "def dJ(theta, X_b, y): #向量化\n",
    "    return X_b.T.dot(X_b.dot(theta) - y) / len(X_b) * 2.\n",
    "\n",
    "def gradient_descent(X_b, y, initial_theta, eta, n_iters = 1e4, epsilon = 1e-8):\n",
    "    theta = initial_theta\n",
    "    i_iter = 0\n",
    "    while i_iter <= n_iters:\n",
    "        gradient = dJ(theta, X_b, y)\n",
    "        last_theta = theta\n",
    "        theta = theta + (-1) * eta * gradient\n",
    "        if (abs(J(theta, X_b, y) - J(last_theta, X_b, y)) < epsilon):\n",
    "            break\n",
    "        i_iter += 1\n",
    "\n",
    "    return theta"
   ]
  },
  {
   "cell_type": "code",
   "execution_count": 35,
   "metadata": {},
   "outputs": [
    {
     "name": "stdout",
     "output_type": "stream",
     "text": [
      "CPU times: user 22.9 s, sys: 78.1 ms, total: 23 s\n",
      "Wall time: 3.84 s\n"
     ]
    }
   ],
   "source": [
    "%%time\n",
    "X_b = np.hstack([np.ones((len(X), 1)), X])\n",
    "initial_theta = np.zeros(X_b.shape[1])\n",
    "eta = 0.01\n",
    "theta = gradient_descent(X_b, y, initial_theta, eta)"
   ]
  },
  {
   "cell_type": "markdown",
   "metadata": {},
   "source": [
    "### Stochastic Gradient Descent"
   ]
  },
  {
   "cell_type": "code",
   "execution_count": 11,
   "metadata": {},
   "outputs": [],
   "source": [
    "def dJ_sgd(theta, X_b_i, y_i): #传入的不是X_b整个矩阵而是X_b的第i个样本，y也变成y_i\n",
    "    return X_b_i.T.dot(X_b_i.dot(theta) - y_i) / len(X_b_i) * 2."
   ]
  },
  {
   "cell_type": "code",
   "execution_count": 28,
   "metadata": {},
   "outputs": [],
   "source": [
    "def sgd(X_b, y, initial_theta, n_iters): #不需要传入学习率eta，是里面自己计算的\n",
    "    t0 = 5\n",
    "    t1 = 50\n",
    "    \n",
    "    def learning_rate(t):\n",
    "        return t0 / (t + t1)\n",
    "    \n",
    "    theta = initial_theta\n",
    "    \n",
    "    \"\"\"为什么不需要下面这一段：这一段的break条件：1. i_iters 超过 n_iters 2. abs()差值足够小\n",
    "    while i_iter <= n_iters:\n",
    "        gradient = dJ(theta, X_b, y)\n",
    "        last_theta = theta\n",
    "        theta = theta + (-1) * eta * gradient\n",
    "        if (abs(J(theta, X_b, y) - J(last_theta, X_b, y)) < epsilon): #因为采用sgd，下降方向是随机的，即便abs(xx-yy)的值很小，也不代表到了最低值\n",
    "            break\n",
    "        i_iter += 1\n",
    "    \"\"\"\n",
    "    #现在break条件： i_iters 超过 n_iters （所以用for loop）\n",
    "    for cur_iter in range(n_iters):\n",
    "        rand_i = np.random.randint(len(X_b))\n",
    "        gradient = dJ_sgd(theta, X_b[rand_i], y[rand_i])\n",
    "        theta = theta + (-1) * learning_rate(cur_iter) * gradient\n",
    "        \n",
    "    return theta\n",
    "    "
   ]
  },
  {
   "cell_type": "code",
   "execution_count": 29,
   "metadata": {},
   "outputs": [
    {
     "name": "stdout",
     "output_type": "stream",
     "text": [
      "CPU times: user 231 ms, sys: 2.99 ms, total: 234 ms\n",
      "Wall time: 234 ms\n"
     ]
    }
   ],
   "source": [
    "%%time\n",
    "X_b = np.hstack([np.ones((len(X),1)), X])\n",
    "initial_theta = np.zeros(X_b.shape[1])\n",
    "theta = sgd(X_b, y, initial_theta, n_iters = (int)(len(X_b) / 3)) #不使用全部m个样本，而是使用1/3"
   ]
  },
  {
   "cell_type": "code",
   "execution_count": 31,
   "metadata": {},
   "outputs": [
    {
     "data": {
      "text/plain": [
       "array([3.10829085, 3.8215458 ])"
      ]
     },
     "execution_count": 31,
     "metadata": {},
     "output_type": "execute_result"
    }
   ],
   "source": [
    "X_b = np.hstack([np.ones((len(X),1)), X])\n",
    "initial_theta = np.zeros(X_b.shape[1])\n",
    "theta = sgd(X_b, y, initial_theta, n_iters = (int)(len(X_b) / 3)) #不使用全部m个样本，而是使用1/3\n",
    "theta #[3.11406959, 3.77094008]接近真值[3,4]"
   ]
  },
  {
   "cell_type": "code",
   "execution_count": null,
   "metadata": {},
   "outputs": [],
   "source": []
  },
  {
   "cell_type": "code",
   "execution_count": null,
   "metadata": {},
   "outputs": [],
   "source": []
  }
 ],
 "metadata": {
  "kernelspec": {
   "display_name": "Python 3",
   "language": "python",
   "name": "python3"
  },
  "language_info": {
   "codemirror_mode": {
    "name": "ipython",
    "version": 3
   },
   "file_extension": ".py",
   "mimetype": "text/x-python",
   "name": "python",
   "nbconvert_exporter": "python",
   "pygments_lexer": "ipython3",
   "version": "3.7.3"
  }
 },
 "nbformat": 4,
 "nbformat_minor": 2
}
