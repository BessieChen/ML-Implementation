{
 "cells": [
  {
   "cell_type": "code",
   "execution_count": 18,
   "metadata": {},
   "outputs": [],
   "source": [
    "import numpy as np\n",
    "from sklearn import datasets\n",
    "\n",
    "boston = datasets.load_boston()\n",
    "X = boston.data\n",
    "y = boston.target\n",
    "\n",
    "X = X[y<50]\n",
    "y = y[y<50]\n",
    "\n",
    "import sys\n",
    "sys.path.append(\"..\")\n",
    "from myML.model_selection import my_train_test_split\n",
    "X_train, X_test, y_train, y_test = my_train_test_split(X, y, seed = 666)"
   ]
  },
  {
   "cell_type": "code",
   "execution_count": 19,
   "metadata": {},
   "outputs": [
    {
     "name": "stdout",
     "output_type": "stream",
     "text": [
      "[ 3.41173997e+01 -1.20354261e-01  3.64423279e-02 -3.61493155e-02\n",
      "  5.12978140e-02 -1.15775825e+01  3.42740062e+00 -2.32311760e-02\n",
      " -1.19487594e+00  2.60101728e-01 -1.40219119e-02 -8.35430488e-01\n",
      "  7.80472852e-03 -3.80923751e-01]\n"
     ]
    },
    {
     "data": {
      "text/plain": [
       "0.8129794056212823"
      ]
     },
     "execution_count": 19,
     "metadata": {},
     "output_type": "execute_result"
    }
   ],
   "source": [
    "from myML.LinearRegression import myLinearRegression\n",
    "\n",
    "my_lin_reg1 = myLinearRegression()\n",
    "my_lin_reg1.fit_normal(X_train, y_train)\n",
    "print(my_lin_reg1._theta)\n",
    "my_lin_reg1.score(X_test, y_test)"
   ]
  },
  {
   "cell_type": "markdown",
   "metadata": {},
   "source": [
    "### 在处理真实数据的时候，我们的梯度下降出问题"
   ]
  },
  {
   "cell_type": "code",
   "execution_count": 20,
   "metadata": {},
   "outputs": [
    {
     "name": "stdout",
     "output_type": "stream",
     "text": [
      "[nan nan nan nan nan nan nan nan nan nan nan nan nan nan]\n"
     ]
    },
    {
     "data": {
      "text/plain": [
       "nan"
      ]
     },
     "execution_count": 20,
     "metadata": {},
     "output_type": "execute_result"
    }
   ],
   "source": [
    "my_lin_reg2 = myLinearRegression()\n",
    "my_lin_reg2.fit_gd(X_train, y_train)\n",
    "print(my_lin_reg2._theta)\n",
    "my_lin_reg2.score(X_test, y_test)\n",
    "#报错：有溢出 RuntimeWarning: overflow encountered in square"
   ]
  },
  {
   "cell_type": "markdown",
   "metadata": {},
   "source": [
    "### 可能原因：\n",
    "我们的eta学习率太大了，因为某个特征可能非常小，例如0.00x"
   ]
  },
  {
   "cell_type": "code",
   "execution_count": null,
   "metadata": {},
   "outputs": [
    {
     "data": {
      "text/plain": [
       "array([[ 14.2362 ,   0.     ,  18.1    ,   0.     ,   0.693  ,   6.343  ,\n",
       "        100.     ,   1.5741 ,  24.     , 666.     ,  20.2    , 396.9    ,\n",
       "         20.32   ],\n",
       "       [  3.67822,   0.     ,  18.1    ,   0.     ,   0.77   ,   5.362  ,\n",
       "         96.2    ,   2.1036 ,  24.     , 666.     ,  20.2    , 380.79   ,\n",
       "         10.19   ]])"
      ]
     },
     "execution_count": 21,
     "metadata": {},
     "output_type": "execute_result"
    }
   ],
   "source": [
    "X_train[:2,:]##我们看一下前两行（前两个样本），会发现有的特征的值非常小，例如第2个和第4个特征"
   ]
  },
  {
   "cell_type": "code",
   "execution_count": null,
   "metadata": {},
   "outputs": [
    {
     "data": {
      "text/plain": [
       "0.27587938872122775"
      ]
     },
     "execution_count": 22,
     "metadata": {},
     "output_type": "execute_result"
    }
   ],
   "source": [
    "my_lin_reg2.fit_gd(X_train, y_train, eta = 0.000001)\n",
    "my_lin_reg2.score(X_test, y_test) \n",
    "#我们的R方值 只有 0.27587938872122775， 没有fit_normal()的score:0.8129794056212823高\n",
    "#说明我们的eta学习率太小，因为走了太多步，但是走的很慢，超出了n_iters次就已经结束了\n",
    "#将n_iters调高试一试"
   ]
  },
  {
   "cell_type": "code",
   "execution_count": null,
   "metadata": {},
   "outputs": [],
   "source": [
    "my_lin_reg2.fit_gd(X_train, y_train, eta = 0.000001, n_iters = 1e7)\n",
    "my_lin_reg2.score(X_test, y_test)\n",
    "#虽然现在R方值比较大，但是运行时间太长了，因为迭代太多次了\n",
    "#根本原因：各个特征的量纲不一样，所以梯度下降之前，最好先进行 数据归一化"
   ]
  },
  {
   "cell_type": "markdown",
   "metadata": {},
   "source": [
    "### 数据归一化\n",
    "1. 对于fit_normal()，只是涉及到 公式计算，没有中间数据搜索，所以不需要归一化\n",
    "2. 对于fit_gd(), 因为涉及到了eta学习率，eta对于某些特征来说，可能影响很大（例如eta = 0.1, 但是特征是 0.000x）, 也可能影响很小。 所以特征需要归一化\n",
    "\n",
    "**注意： 只是X需要归一化，X_train和X_test都需要归一化**"
   ]
  },
  {
   "cell_type": "code",
   "execution_count": null,
   "metadata": {},
   "outputs": [],
   "source": [
    "from sklearn.preprocessing import StandardScaler\n",
    "\n",
    "standardScaler = StandardScaler()\n",
    "standardScaler.fit(X_train)\n",
    "X_train_standard = standardScaler.transform(X_train)"
   ]
  },
  {
   "cell_type": "code",
   "execution_count": null,
   "metadata": {},
   "outputs": [],
   "source": [
    "my_lin_reg3 = myLinearRegression()\n",
    "my_lin_reg3.fit_gd(X_train_standard, y_train)\n",
    "\n",
    "X_test_standard = standardScaler.transform(X_test)\n",
    "my_lin_reg3.score(X_test_standard, y_test)\n",
    "#报错：有溢出 RuntimeWarning: overflow encountered in square"
   ]
  },
  {
   "cell_type": "markdown",
   "metadata": {},
   "source": [
    "### 梯度下降法的优势"
   ]
  },
  {
   "cell_type": "code",
   "execution_count": null,
   "metadata": {},
   "outputs": [],
   "source": [
    "m = 1000 #样本数\n",
    "n = 5000 #特征数（特征数为5k其实不大，连100*100的图像都有10k特征）\n",
    "\n",
    "big_X = np.random.normal(size = (m,n)) #因为是normal，所以big_X已经是归一化了的\n",
    "true_theta = np.random.uniform(0.0, 100.0, size = n + 1) #从0-100之间均匀取值作为theta，有1+n个theta值\n",
    "big_y = big_X.dot(true_theta[1:]) + true_theta[0] + np.random.normal(mean = 0.0, std = 10.0, size = m)\n"
   ]
  },
  {
   "cell_type": "code",
   "execution_count": null,
   "metadata": {},
   "outputs": [],
   "source": [
    "big_reg = myLinearRegression()\n",
    "%time big_reg.fit_normal(big_X, big_y)"
   ]
  },
  {
   "cell_type": "code",
   "execution_count": null,
   "metadata": {},
   "outputs": [],
   "source": [
    "big_reg2 = myLinearRegression()\n",
    "%time big_reg2.fit_gd(big_X, big_y)"
   ]
  },
  {
   "cell_type": "markdown",
   "metadata": {},
   "source": [
    "### 当矩阵（样本数，特征数）很大的时候，梯度下降法更快！当矩阵（样本数，特征数）更大的时候，梯度下降法更有优势"
   ]
  },
  {
   "cell_type": "code",
   "execution_count": null,
   "metadata": {},
   "outputs": [],
   "source": []
  }
 ],
 "metadata": {
  "kernelspec": {
   "display_name": "Python 3",
   "language": "python",
   "name": "python3"
  },
  "language_info": {
   "codemirror_mode": {
    "name": "ipython",
    "version": 3
   },
   "file_extension": ".py",
   "mimetype": "text/x-python",
   "name": "python",
   "nbconvert_exporter": "python",
   "pygments_lexer": "ipython3",
   "version": "3.7.3"
  }
 },
 "nbformat": 4,
 "nbformat_minor": 2
}
